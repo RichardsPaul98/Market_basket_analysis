{
  "nbformat": 4,
  "nbformat_minor": 0,
  "metadata": {
    "colab": {
      "provenance": []
    },
    "kernelspec": {
      "name": "python3",
      "display_name": "Python 3"
    },
    "language_info": {
      "name": "python"
    }
  },
  "cells": [
    {
      "cell_type": "code",
      "source": [
        "!pip install apyori"
      ],
      "metadata": {
        "colab": {
          "base_uri": "https://localhost:8080/"
        },
        "id": "vwAhZp7b0sZG",
        "outputId": "d47b5181-3997-4ea6-c50f-70e59d1fb6b7"
      },
      "execution_count": 2,
      "outputs": [
        {
          "output_type": "stream",
          "name": "stdout",
          "text": [
            "Looking in indexes: https://pypi.org/simple, https://us-python.pkg.dev/colab-wheels/public/simple/\n",
            "Collecting apyori\n",
            "  Downloading apyori-1.1.2.tar.gz (8.6 kB)\n",
            "  Preparing metadata (setup.py) ... \u001b[?25l\u001b[?25hdone\n",
            "Building wheels for collected packages: apyori\n",
            "  Building wheel for apyori (setup.py) ... \u001b[?25l\u001b[?25hdone\n",
            "  Created wheel for apyori: filename=apyori-1.1.2-py3-none-any.whl size=5973 sha256=baa7330765e64f2ff0ea390281b7e284b4a18e51eadd5b7e2ddeba640ef6318a\n",
            "  Stored in directory: /root/.cache/pip/wheels/1b/02/6c/a45230be8603bd95c0a51cd2b289aefdd860c1a100eab73661\n",
            "Successfully built apyori\n",
            "Installing collected packages: apyori\n",
            "Successfully installed apyori-1.1.2\n"
          ]
        }
      ]
    },
    {
      "cell_type": "code",
      "execution_count": 3,
      "metadata": {
        "id": "3bNFq-n_0fUU"
      },
      "outputs": [],
      "source": [
        "import pandas as pd\n",
        "import numpy as np\n",
        "from apyori import apriori"
      ]
    },
    {
      "cell_type": "code",
      "source": [
        "st_df=pd.read_csv(\"Market_Basket_Optimisation.csv\",header=None)\n",
        "print(st_df)"
      ],
      "metadata": {
        "colab": {
          "base_uri": "https://localhost:8080/"
        },
        "id": "lOu7uhog06FU",
        "outputId": "dd915a43-a60a-4d89-af93-0ec76af6e124"
      },
      "execution_count": 5,
      "outputs": [
        {
          "output_type": "stream",
          "name": "stdout",
          "text": [
            "                 0                  1            2                 3   \\\n",
            "0            shrimp            almonds      avocado    vegetables mix   \n",
            "1           burgers          meatballs         eggs               NaN   \n",
            "2           chutney                NaN          NaN               NaN   \n",
            "3            turkey            avocado          NaN               NaN   \n",
            "4     mineral water               milk   energy bar  whole wheat rice   \n",
            "...             ...                ...          ...               ...   \n",
            "7496         butter         light mayo  fresh bread               NaN   \n",
            "7497        burgers  frozen vegetables         eggs      french fries   \n",
            "7498        chicken                NaN          NaN               NaN   \n",
            "7499       escalope          green tea          NaN               NaN   \n",
            "7500           eggs    frozen smoothie  yogurt cake    low fat yogurt   \n",
            "\n",
            "                4                 5     6               7             8   \\\n",
            "0     green grapes  whole weat flour  yams  cottage cheese  energy drink   \n",
            "1              NaN               NaN   NaN             NaN           NaN   \n",
            "2              NaN               NaN   NaN             NaN           NaN   \n",
            "3              NaN               NaN   NaN             NaN           NaN   \n",
            "4        green tea               NaN   NaN             NaN           NaN   \n",
            "...            ...               ...   ...             ...           ...   \n",
            "7496           NaN               NaN   NaN             NaN           NaN   \n",
            "7497     magazines         green tea   NaN             NaN           NaN   \n",
            "7498           NaN               NaN   NaN             NaN           NaN   \n",
            "7499           NaN               NaN   NaN             NaN           NaN   \n",
            "7500           NaN               NaN   NaN             NaN           NaN   \n",
            "\n",
            "                9               10         11     12     13             14  \\\n",
            "0     tomato juice  low fat yogurt  green tea  honey  salad  mineral water   \n",
            "1              NaN             NaN        NaN    NaN    NaN            NaN   \n",
            "2              NaN             NaN        NaN    NaN    NaN            NaN   \n",
            "3              NaN             NaN        NaN    NaN    NaN            NaN   \n",
            "4              NaN             NaN        NaN    NaN    NaN            NaN   \n",
            "...            ...             ...        ...    ...    ...            ...   \n",
            "7496           NaN             NaN        NaN    NaN    NaN            NaN   \n",
            "7497           NaN             NaN        NaN    NaN    NaN            NaN   \n",
            "7498           NaN             NaN        NaN    NaN    NaN            NaN   \n",
            "7499           NaN             NaN        NaN    NaN    NaN            NaN   \n",
            "7500           NaN             NaN        NaN    NaN    NaN            NaN   \n",
            "\n",
            "          15                 16               17       18         19  \n",
            "0     salmon  antioxydant juice  frozen smoothie  spinach  olive oil  \n",
            "1        NaN                NaN              NaN      NaN        NaN  \n",
            "2        NaN                NaN              NaN      NaN        NaN  \n",
            "3        NaN                NaN              NaN      NaN        NaN  \n",
            "4        NaN                NaN              NaN      NaN        NaN  \n",
            "...      ...                ...              ...      ...        ...  \n",
            "7496     NaN                NaN              NaN      NaN        NaN  \n",
            "7497     NaN                NaN              NaN      NaN        NaN  \n",
            "7498     NaN                NaN              NaN      NaN        NaN  \n",
            "7499     NaN                NaN              NaN      NaN        NaN  \n",
            "7500     NaN                NaN              NaN      NaN        NaN  \n",
            "\n",
            "[7501 rows x 20 columns]\n"
          ]
        }
      ]
    },
    {
      "cell_type": "code",
      "source": [
        "#converting dataframe into list of lists\n",
        "l=[]\n",
        "for i in range(1,7501):\n",
        "    l.append([str(st_df.values[i,j]) for j in range(0,20)])"
      ],
      "metadata": {
        "id": "k0bDDbna0oIL"
      },
      "execution_count": 14,
      "outputs": []
    },
    {
      "cell_type": "code",
      "source": [
        "#applying apriori algorithm\n",
        "association_rules = apriori(l, min_support=0.0045, min_confidence=0.2, min_lift=3, min_length=2)\n",
        "association_results = list(association_rules)"
      ],
      "metadata": {
        "id": "zV3Fi0Lm0zNJ"
      },
      "execution_count": 15,
      "outputs": []
    },
    {
      "cell_type": "code",
      "source": [
        "for i in range(0, len(association_results)):\n",
        "    print(association_results[i][0])"
      ],
      "metadata": {
        "colab": {
          "base_uri": "https://localhost:8080/"
        },
        "id": "1-63zoG81Pr2",
        "outputId": "15fdb58f-f4b7-42b4-dafd-2b0e3f7a503c"
      },
      "execution_count": 16,
      "outputs": [
        {
          "output_type": "stream",
          "name": "stdout",
          "text": [
            "frozenset({'light cream', 'chicken'})\n",
            "frozenset({'escalope', 'mushroom cream sauce'})\n",
            "frozenset({'pasta', 'escalope'})\n",
            "frozenset({'herb & pepper', 'ground beef'})\n",
            "frozenset({'tomato sauce', 'ground beef'})\n",
            "frozenset({'whole wheat pasta', 'olive oil'})\n",
            "frozenset({'pasta', 'shrimp'})\n",
            "frozenset({'light cream', 'nan', 'chicken'})\n",
            "frozenset({'frozen vegetables', 'shrimp', 'chocolate'})\n",
            "frozenset({'spaghetti', 'cooking oil', 'ground beef'})\n",
            "frozenset({'nan', 'escalope', 'mushroom cream sauce'})\n",
            "frozenset({'pasta', 'nan', 'escalope'})\n",
            "frozenset({'frozen vegetables', 'spaghetti', 'ground beef'})\n",
            "frozenset({'milk', 'frozen vegetables', 'olive oil'})\n",
            "frozenset({'frozen vegetables', 'mineral water', 'shrimp'})\n",
            "frozenset({'frozen vegetables', 'olive oil', 'spaghetti'})\n",
            "frozenset({'frozen vegetables', 'spaghetti', 'shrimp'})\n",
            "frozenset({'tomatoes', 'frozen vegetables', 'spaghetti'})\n",
            "frozenset({'spaghetti', 'grated cheese', 'ground beef'})\n",
            "frozenset({'herb & pepper', 'mineral water', 'ground beef'})\n",
            "frozenset({'nan', 'herb & pepper', 'ground beef'})\n",
            "frozenset({'herb & pepper', 'spaghetti', 'ground beef'})\n",
            "frozenset({'milk', 'olive oil', 'ground beef'})\n",
            "frozenset({'nan', 'tomato sauce', 'ground beef'})\n",
            "frozenset({'spaghetti', 'shrimp', 'ground beef'})\n",
            "frozenset({'milk', 'olive oil', 'spaghetti'})\n",
            "frozenset({'soup', 'olive oil', 'mineral water'})\n",
            "frozenset({'whole wheat pasta', 'nan', 'olive oil'})\n",
            "frozenset({'pasta', 'nan', 'shrimp'})\n",
            "frozenset({'olive oil', 'spaghetti', 'pancakes'})\n",
            "frozenset({'nan', 'frozen vegetables', 'shrimp', 'chocolate'})\n",
            "frozenset({'nan', 'spaghetti', 'cooking oil', 'ground beef'})\n",
            "frozenset({'nan', 'frozen vegetables', 'spaghetti', 'ground beef'})\n",
            "frozenset({'milk', 'frozen vegetables', 'mineral water', 'spaghetti'})\n",
            "frozenset({'nan', 'milk', 'frozen vegetables', 'olive oil'})\n",
            "frozenset({'nan', 'frozen vegetables', 'mineral water', 'shrimp'})\n",
            "frozenset({'nan', 'frozen vegetables', 'olive oil', 'spaghetti'})\n",
            "frozenset({'nan', 'frozen vegetables', 'spaghetti', 'shrimp'})\n",
            "frozenset({'tomatoes', 'nan', 'frozen vegetables', 'spaghetti'})\n",
            "frozenset({'nan', 'spaghetti', 'grated cheese', 'ground beef'})\n",
            "frozenset({'nan', 'herb & pepper', 'mineral water', 'ground beef'})\n",
            "frozenset({'nan', 'herb & pepper', 'spaghetti', 'ground beef'})\n",
            "frozenset({'nan', 'milk', 'olive oil', 'ground beef'})\n",
            "frozenset({'nan', 'spaghetti', 'shrimp', 'ground beef'})\n",
            "frozenset({'nan', 'milk', 'olive oil', 'spaghetti'})\n",
            "frozenset({'nan', 'olive oil', 'mineral water', 'soup'})\n",
            "frozenset({'nan', 'olive oil', 'spaghetti', 'pancakes'})\n",
            "frozenset({'nan', 'frozen vegetables', 'mineral water', 'milk', 'spaghetti'})\n"
          ]
        }
      ]
    },
    {
      "cell_type": "code",
      "source": [
        "for item in association_results:\n",
        "    # first index of the inner list\n",
        "    # Contains base item and add item\n",
        "    pair = item[0]\n",
        "    items = [x for x in pair]\n",
        "    print(\"Rule: \" + items[0] + \" -> \" + items[1])\n",
        "    # second index of the inner list\n",
        "    print(\"Support: \" + str(item[1]))\n",
        "    # third index of the list located at 0th position\n",
        "    # of the third index of the inner list\n",
        "    print(\"Confidence: \" + str(item[2][0][2]))\n",
        "    print(\"Lift: \" + str(item[2][0][3]))\n",
        "    print(\"-----------------------------------------------------\")"
      ],
      "metadata": {
        "colab": {
          "base_uri": "https://localhost:8080/"
        },
        "id": "I_lim6wn1V6Q",
        "outputId": "fca720e0-565c-4e1f-93b6-48fa39325d0d"
      },
      "execution_count": 17,
      "outputs": [
        {
          "output_type": "stream",
          "name": "stdout",
          "text": [
            "Rule: light cream -> chicken\n",
            "Support: 0.004533333333333334\n",
            "Confidence: 0.2905982905982906\n",
            "Lift: 4.843304843304844\n",
            "-----------------------------------------------------\n",
            "Rule: escalope -> mushroom cream sauce\n",
            "Support: 0.005733333333333333\n",
            "Confidence: 0.30069930069930073\n",
            "Lift: 3.7903273197390845\n",
            "-----------------------------------------------------\n",
            "Rule: pasta -> escalope\n",
            "Support: 0.005866666666666667\n",
            "Confidence: 0.37288135593220345\n",
            "Lift: 4.700185158809287\n",
            "-----------------------------------------------------\n",
            "Rule: herb & pepper -> ground beef\n",
            "Support: 0.016\n",
            "Confidence: 0.3234501347708895\n",
            "Lift: 3.2915549671393096\n",
            "-----------------------------------------------------\n",
            "Rule: tomato sauce -> ground beef\n",
            "Support: 0.005333333333333333\n",
            "Confidence: 0.37735849056603776\n",
            "Lift: 3.840147461662528\n",
            "-----------------------------------------------------\n",
            "Rule: whole wheat pasta -> olive oil\n",
            "Support: 0.008\n",
            "Confidence: 0.2714932126696833\n",
            "Lift: 4.130221288078346\n",
            "-----------------------------------------------------\n",
            "Rule: pasta -> shrimp\n",
            "Support: 0.005066666666666666\n",
            "Confidence: 0.3220338983050848\n",
            "Lift: 4.514493901473151\n",
            "-----------------------------------------------------\n",
            "Rule: light cream -> nan\n",
            "Support: 0.004533333333333334\n",
            "Confidence: 0.2905982905982906\n",
            "Lift: 4.843304843304844\n",
            "-----------------------------------------------------\n",
            "Rule: frozen vegetables -> shrimp\n",
            "Support: 0.005333333333333333\n",
            "Confidence: 0.23255813953488372\n",
            "Lift: 3.260160834601174\n",
            "-----------------------------------------------------\n",
            "Rule: spaghetti -> cooking oil\n",
            "Support: 0.0048\n",
            "Confidence: 0.5714285714285714\n",
            "Lift: 3.281557646029315\n",
            "-----------------------------------------------------\n",
            "Rule: nan -> escalope\n",
            "Support: 0.005733333333333333\n",
            "Confidence: 0.30069930069930073\n",
            "Lift: 3.7903273197390845\n",
            "-----------------------------------------------------\n",
            "Rule: pasta -> nan\n",
            "Support: 0.005866666666666667\n",
            "Confidence: 0.37288135593220345\n",
            "Lift: 4.700185158809287\n",
            "-----------------------------------------------------\n",
            "Rule: frozen vegetables -> spaghetti\n",
            "Support: 0.008666666666666666\n",
            "Confidence: 0.3110047846889952\n",
            "Lift: 3.164906221394116\n",
            "-----------------------------------------------------\n",
            "Rule: milk -> frozen vegetables\n",
            "Support: 0.0048\n",
            "Confidence: 0.20338983050847456\n",
            "Lift: 3.094165778526489\n",
            "-----------------------------------------------------\n",
            "Rule: frozen vegetables -> mineral water\n",
            "Support: 0.0072\n",
            "Confidence: 0.3068181818181818\n",
            "Lift: 3.2183725365543547\n",
            "-----------------------------------------------------\n",
            "Rule: frozen vegetables -> olive oil\n",
            "Support: 0.005733333333333333\n",
            "Confidence: 0.20574162679425836\n",
            "Lift: 3.1299436124887174\n",
            "-----------------------------------------------------\n",
            "Rule: frozen vegetables -> spaghetti\n",
            "Support: 0.006\n",
            "Confidence: 0.21531100478468898\n",
            "Lift: 3.0183785717479763\n",
            "-----------------------------------------------------\n",
            "Rule: tomatoes -> frozen vegetables\n",
            "Support: 0.006666666666666667\n",
            "Confidence: 0.23923444976076555\n",
            "Lift: 3.497579674864993\n",
            "-----------------------------------------------------\n",
            "Rule: spaghetti -> grated cheese\n",
            "Support: 0.005333333333333333\n",
            "Confidence: 0.3225806451612903\n",
            "Lift: 3.282706701098612\n",
            "-----------------------------------------------------\n",
            "Rule: herb & pepper -> mineral water\n",
            "Support: 0.006666666666666667\n",
            "Confidence: 0.390625\n",
            "Lift: 3.975152645861601\n",
            "-----------------------------------------------------\n",
            "Rule: nan -> herb & pepper\n",
            "Support: 0.016\n",
            "Confidence: 0.3234501347708895\n",
            "Lift: 3.2915549671393096\n",
            "-----------------------------------------------------\n",
            "Rule: herb & pepper -> spaghetti\n",
            "Support: 0.0064\n",
            "Confidence: 0.3934426229508197\n",
            "Lift: 4.003825878061259\n",
            "-----------------------------------------------------\n",
            "Rule: milk -> olive oil\n",
            "Support: 0.004933333333333333\n",
            "Confidence: 0.22424242424242424\n",
            "Lift: 3.411395906324912\n",
            "-----------------------------------------------------\n",
            "Rule: nan -> tomato sauce\n",
            "Support: 0.005333333333333333\n",
            "Confidence: 0.37735849056603776\n",
            "Lift: 3.840147461662528\n",
            "-----------------------------------------------------\n",
            "Rule: spaghetti -> shrimp\n",
            "Support: 0.006\n",
            "Confidence: 0.5232558139534884\n",
            "Lift: 3.004914704939635\n",
            "-----------------------------------------------------\n",
            "Rule: milk -> olive oil\n",
            "Support: 0.0072\n",
            "Confidence: 0.20300751879699247\n",
            "Lift: 3.0883496774390333\n",
            "-----------------------------------------------------\n",
            "Rule: soup -> olive oil\n",
            "Support: 0.0052\n",
            "Confidence: 0.2254335260115607\n",
            "Lift: 3.4295161157945335\n",
            "-----------------------------------------------------\n",
            "Rule: whole wheat pasta -> nan\n",
            "Support: 0.008\n",
            "Confidence: 0.2714932126696833\n",
            "Lift: 4.130221288078346\n",
            "-----------------------------------------------------\n",
            "Rule: pasta -> nan\n",
            "Support: 0.005066666666666666\n",
            "Confidence: 0.3220338983050848\n",
            "Lift: 4.514493901473151\n",
            "-----------------------------------------------------\n",
            "Rule: olive oil -> spaghetti\n",
            "Support: 0.005066666666666666\n",
            "Confidence: 0.20105820105820105\n",
            "Lift: 3.0586947422647217\n",
            "-----------------------------------------------------\n",
            "Rule: nan -> frozen vegetables\n",
            "Support: 0.005333333333333333\n",
            "Confidence: 0.23255813953488372\n",
            "Lift: 3.260160834601174\n",
            "-----------------------------------------------------\n",
            "Rule: nan -> spaghetti\n",
            "Support: 0.0048\n",
            "Confidence: 0.5714285714285714\n",
            "Lift: 3.281557646029315\n",
            "-----------------------------------------------------\n",
            "Rule: nan -> frozen vegetables\n",
            "Support: 0.008666666666666666\n",
            "Confidence: 0.3110047846889952\n",
            "Lift: 3.164906221394116\n",
            "-----------------------------------------------------\n",
            "Rule: milk -> frozen vegetables\n",
            "Support: 0.004533333333333334\n",
            "Confidence: 0.28813559322033905\n",
            "Lift: 3.0224013274860737\n",
            "-----------------------------------------------------\n",
            "Rule: nan -> milk\n",
            "Support: 0.0048\n",
            "Confidence: 0.20338983050847456\n",
            "Lift: 3.094165778526489\n",
            "-----------------------------------------------------\n",
            "Rule: nan -> frozen vegetables\n",
            "Support: 0.0072\n",
            "Confidence: 0.3068181818181818\n",
            "Lift: 3.2183725365543547\n",
            "-----------------------------------------------------\n",
            "Rule: nan -> frozen vegetables\n",
            "Support: 0.005733333333333333\n",
            "Confidence: 0.20574162679425836\n",
            "Lift: 3.1299436124887174\n",
            "-----------------------------------------------------\n",
            "Rule: nan -> frozen vegetables\n",
            "Support: 0.006\n",
            "Confidence: 0.21531100478468898\n",
            "Lift: 3.0183785717479763\n",
            "-----------------------------------------------------\n",
            "Rule: tomatoes -> nan\n",
            "Support: 0.006666666666666667\n",
            "Confidence: 0.23923444976076555\n",
            "Lift: 3.497579674864993\n",
            "-----------------------------------------------------\n",
            "Rule: nan -> spaghetti\n",
            "Support: 0.005333333333333333\n",
            "Confidence: 0.3225806451612903\n",
            "Lift: 3.282706701098612\n",
            "-----------------------------------------------------\n",
            "Rule: nan -> herb & pepper\n",
            "Support: 0.006666666666666667\n",
            "Confidence: 0.390625\n",
            "Lift: 3.975152645861601\n",
            "-----------------------------------------------------\n",
            "Rule: nan -> herb & pepper\n",
            "Support: 0.0064\n",
            "Confidence: 0.3934426229508197\n",
            "Lift: 4.003825878061259\n",
            "-----------------------------------------------------\n",
            "Rule: nan -> milk\n",
            "Support: 0.004933333333333333\n",
            "Confidence: 0.22424242424242424\n",
            "Lift: 3.411395906324912\n",
            "-----------------------------------------------------\n",
            "Rule: nan -> spaghetti\n",
            "Support: 0.006\n",
            "Confidence: 0.5232558139534884\n",
            "Lift: 3.004914704939635\n",
            "-----------------------------------------------------\n",
            "Rule: nan -> milk\n",
            "Support: 0.0072\n",
            "Confidence: 0.20300751879699247\n",
            "Lift: 3.0883496774390333\n",
            "-----------------------------------------------------\n",
            "Rule: nan -> olive oil\n",
            "Support: 0.0052\n",
            "Confidence: 0.2254335260115607\n",
            "Lift: 3.4295161157945335\n",
            "-----------------------------------------------------\n",
            "Rule: nan -> olive oil\n",
            "Support: 0.005066666666666666\n",
            "Confidence: 0.20105820105820105\n",
            "Lift: 3.0586947422647217\n",
            "-----------------------------------------------------\n",
            "Rule: nan -> frozen vegetables\n",
            "Support: 0.004533333333333334\n",
            "Confidence: 0.28813559322033905\n",
            "Lift: 3.0224013274860737\n",
            "-----------------------------------------------------\n"
          ]
        }
      ]
    },
    {
      "cell_type": "code",
      "source": [
        "all_products = st_df.melt()[\"value\"].dropna().sort_values()\n",
        "\n",
        "# Find items that start or end with whitespace\n",
        "all_products[all_products.str.contains(\"^\\s|\\s$\")].to_list()"
      ],
      "metadata": {
        "colab": {
          "base_uri": "https://localhost:8080/"
        },
        "id": "jCpalLmI2rfr",
        "outputId": "34863c14-e223-45af-df45-3d91feb7b95f"
      },
      "execution_count": 10,
      "outputs": [
        {
          "output_type": "execute_result",
          "data": {
            "text/plain": [
              "[' asparagus']"
            ]
          },
          "metadata": {},
          "execution_count": 10
        }
      ]
    },
    {
      "cell_type": "code",
      "source": [
        "st_df.replace(\" asparagus\", \"asparagus\", inplace=True)\n",
        "all_products.replace(\" asparagus\", \"asparagus\", inplace=True)\n",
        "\n",
        "print(f\"There are {all_products.nunique()} different products:\\n\\n\", all_products.unique())"
      ],
      "metadata": {
        "colab": {
          "base_uri": "https://localhost:8080/"
        },
        "id": "xdpBo0tN2xua",
        "outputId": "b66407cf-537e-4a64-fb57-5b4650d75ae6"
      },
      "execution_count": 11,
      "outputs": [
        {
          "output_type": "stream",
          "name": "stdout",
          "text": [
            "There are 119 different products:\n",
            "\n",
            " ['asparagus' 'almonds' 'antioxydant juice' 'avocado' 'babies food' 'bacon'\n",
            " 'barbecue sauce' 'black tea' 'blueberries' 'body spray' 'bramble'\n",
            " 'brownies' 'bug spray' 'burger sauce' 'burgers' 'butter' 'cake'\n",
            " 'candy bars' 'carrots' 'cauliflower' 'cereals' 'champagne' 'chicken'\n",
            " 'chili' 'chocolate' 'chocolate bread' 'chutney' 'cider'\n",
            " 'clothes accessories' 'cookies' 'cooking oil' 'corn' 'cottage cheese'\n",
            " 'cream' 'dessert wine' 'eggplant' 'eggs' 'energy bar' 'energy drink'\n",
            " 'escalope' 'extra dark chocolate' 'flax seed' 'french fries'\n",
            " 'french wine' 'fresh bread' 'fresh tuna' 'fromage blanc'\n",
            " 'frozen smoothie' 'frozen vegetables' 'gluten free bar' 'grated cheese'\n",
            " 'green beans' 'green grapes' 'green tea' 'ground beef' 'gums' 'ham'\n",
            " 'hand protein bar' 'herb & pepper' 'honey' 'hot dogs' 'ketchup'\n",
            " 'light cream' 'light mayo' 'low fat yogurt' 'magazines' 'mashed potato'\n",
            " 'mayonnaise' 'meatballs' 'melons' 'milk' 'mineral water' 'mint'\n",
            " 'mint green tea' 'muffins' 'mushroom cream sauce' 'napkins' 'nonfat milk'\n",
            " 'oatmeal' 'oil' 'olive oil' 'pancakes' 'parmesan cheese' 'pasta' 'pepper'\n",
            " 'pet food' 'pickles' 'protein bar' 'red wine' 'rice' 'salad' 'salmon'\n",
            " 'salt' 'sandwich' 'shallot' 'shampoo' 'shrimp' 'soda' 'soup' 'spaghetti'\n",
            " 'sparkling water' 'spinach' 'strawberries' 'strong cheese' 'tea'\n",
            " 'tomato juice' 'tomato sauce' 'tomatoes' 'toothpaste' 'turkey'\n",
            " 'vegetables mix' 'water spray' 'white wine' 'whole weat flour'\n",
            " 'whole wheat pasta' 'whole wheat rice' 'yams' 'yogurt cake' 'zucchini']\n"
          ]
        }
      ]
    },
    {
      "cell_type": "code",
      "source": [
        "basket_sizes = st_df.notna().apply(sum, axis=1)\n",
        "\n",
        "baskets = [tuple(row.dropna()) for _, row in st_df[basket_sizes > 1].iterrows()]\n",
        "baskets[-5:]\n"
      ],
      "metadata": {
        "colab": {
          "base_uri": "https://localhost:8080/"
        },
        "id": "dJJL8r252T1-",
        "outputId": "c5d2afbf-d0be-417f-f12f-dd866f6c6629"
      },
      "execution_count": 13,
      "outputs": [
        {
          "output_type": "execute_result",
          "data": {
            "text/plain": [
              "[('pancakes', 'light mayo'),\n",
              " ('butter', 'light mayo', 'fresh bread'),\n",
              " ('burgers',\n",
              "  'frozen vegetables',\n",
              "  'eggs',\n",
              "  'french fries',\n",
              "  'magazines',\n",
              "  'green tea'),\n",
              " ('escalope', 'green tea'),\n",
              " ('eggs', 'frozen smoothie', 'yogurt cake', 'low fat yogurt')]"
            ]
          },
          "metadata": {},
          "execution_count": 13
        }
      ]
    },
    {
      "cell_type": "code",
      "source": [
        "!pip install efficient-apriori"
      ],
      "metadata": {
        "colab": {
          "base_uri": "https://localhost:8080/"
        },
        "id": "9UCnFk6p3qth",
        "outputId": "5b99c229-1b82-4c3d-c62f-64cc5e981176"
      },
      "execution_count": 21,
      "outputs": [
        {
          "output_type": "stream",
          "name": "stdout",
          "text": [
            "Looking in indexes: https://pypi.org/simple, https://us-python.pkg.dev/colab-wheels/public/simple/\n",
            "Collecting efficient-apriori\n",
            "  Downloading efficient_apriori-2.0.1-py3-none-any.whl (14 kB)\n",
            "Installing collected packages: efficient-apriori\n",
            "Successfully installed efficient-apriori-2.0.1\n"
          ]
        }
      ]
    },
    {
      "cell_type": "code",
      "source": [
        "from efficient_apriori import apriori\n",
        "\n",
        "item_sets, association_rules = apriori(baskets, min_support=0.03, min_confidence=0.3)\n",
        "\n",
        "# Get 1 to 1 rules e.g. {bread} -> {butter}\n",
        "one_to_one_rules = filter(\n",
        "    lambda rule: len(rule.lhs) == 1 and len(rule.rhs) == 1, association_rules\n",
        ")\n",
        "for rule in sorted(one_to_one_rules, key=lambda rule: rule.lift):\n",
        "    print(rule)\n"
      ],
      "metadata": {
        "colab": {
          "base_uri": "https://localhost:8080/"
        },
        "id": "2Tdjn1611Zgj",
        "outputId": "e6d508b6-69e7-4c9f-914f-333bcf106747"
      },
      "execution_count": 22,
      "outputs": [
        {
          "output_type": "stream",
          "name": "stdout",
          "text": [
            "{eggs} -> {mineral water} (conf: 0.304, supp: 0.066, lift: 1.030, conv: 1.013)\n",
            "{shrimp} -> {mineral water} (conf: 0.339, supp: 0.031, lift: 1.150, conv: 1.067)\n",
            "{low fat yogurt} -> {mineral water} (conf: 0.340, supp: 0.031, lift: 1.154, conv: 1.069)\n",
            "{chocolate} -> {mineral water} (conf: 0.342, supp: 0.069, lift: 1.159, conv: 1.071)\n",
            "{cake} -> {mineral water} (conf: 0.356, supp: 0.036, lift: 1.206, conv: 1.094)\n",
            "{spaghetti} -> {mineral water} (conf: 0.357, supp: 0.078, lift: 1.211, conv: 1.097)\n",
            "{tomatoes} -> {mineral water} (conf: 0.370, supp: 0.032, lift: 1.256, conv: 1.120)\n",
            "{pancakes} -> {mineral water} (conf: 0.375, supp: 0.044, lift: 1.273, conv: 1.129)\n",
            "{milk} -> {mineral water} (conf: 0.383, supp: 0.063, lift: 1.300, conv: 1.143)\n",
            "{frozen vegetables} -> {mineral water} (conf: 0.385, supp: 0.047, lift: 1.306, conv: 1.147)\n",
            "{frozen vegetables} -> {spaghetti} (conf: 0.300, supp: 0.036, lift: 1.376, conv: 1.117)\n",
            "{ground beef} -> {mineral water} (conf: 0.429, supp: 0.053, lift: 1.454, conv: 1.234)\n",
            "{olive oil} -> {mineral water} (conf: 0.439, supp: 0.036, lift: 1.490, conv: 1.258)\n",
            "{burgers} -> {eggs} (conf: 0.341, supp: 0.038, lift: 1.556, conv: 1.185)\n",
            "{soup} -> {mineral water} (conf: 0.466, supp: 0.030, lift: 1.581, conv: 1.321)\n",
            "{ground beef} -> {spaghetti} (conf: 0.411, supp: 0.051, lift: 1.882, conv: 1.326)\n"
          ]
        }
      ]
    }
  ]
}